{
 "cells": [
  {
   "cell_type": "markdown",
   "metadata": {
    "id": "GZxwsNoXYZzx"
   },
   "source": [
    "# 🧮 Tipos de Números\n",
    "\n",
    "No Python, encontramos diversos \"tipos\" de números, mas vamos focar principalmente em dois: inteiros e números de ponto flutuante!\n",
    "\n",
    "- **Integers:** São números inteiros completos, podendo ser positivos (como 2) ou negativos (como -2).\n",
    "\n",
    "- **Float:** Eles são notáveis por terem casas decimais (indicadas por um ponto, como 2.0) ou por usarem uma notação exponencial (e) para representar o número (por exemplo, 4E2, que significa 4 vezes 10 elevado à potência de 2).\n",
    "\n",
    "Durante o curso, nosso foco estará principalmente em inteiros e números de ponto flutuante simples. Abaixo, apresentamos uma tabela com exemplos para facilitar a compreensão: 📊"
   ]
  },
  {
   "cell_type": "markdown",
   "metadata": {
    "id": "GpEMGNZZYfr0"
   },
   "source": [
    "<table>\n",
    "<tr>\n",
    "    <th>Examples</th>\n",
    "    <th>Number \"Type\"</th>\n",
    "</tr>\n",
    "<tr>\n",
    "    <td>10, -15, 500, -2000</td>\n",
    "    <td>Integers</td>\n",
    "</tr>\n",
    "<tr>\n",
    "    <td>2.5, -0.75, 1.5e3, 4E-2</td>\n",
    "    <td>Floating-point numbers</td>\n",
    "</tr>\n",
    "</table>"
   ]
  },
  {
   "cell_type": "markdown",
   "metadata": {
    "id": "7EhxX08fYPuk"
   },
   "source": [
    "### Aritmética Básica"
   ]
  },
  {
   "cell_type": "code",
   "execution_count": null,
   "metadata": {
    "colab": {
     "base_uri": "https://localhost:8080/"
    },
    "executionInfo": {
     "elapsed": 430,
     "status": "ok",
     "timestamp": 1698321593588,
     "user": {
      "displayName": "Henrique Frank",
      "userId": "12899229419755631625"
     },
     "user_tz": 180
    },
    "id": "62V39_COYPul",
    "outputId": "704dbc96-391f-4be9-ad2d-3bc0c6ca104b"
   },
   "outputs": [],
   "source": [
    "# Adição (+): Para somar números.\n",
    "2+1"
   ]
  },
  {
   "cell_type": "code",
   "execution_count": null,
   "metadata": {
    "colab": {
     "base_uri": "https://localhost:8080/"
    },
    "executionInfo": {
     "elapsed": 39,
     "status": "ok",
     "timestamp": 1698321593589,
     "user": {
      "displayName": "Henrique Frank",
      "userId": "12899229419755631625"
     },
     "user_tz": 180
    },
    "id": "NP3oRoBdYPun",
    "outputId": "ca8fbc46-855e-4380-babc-47b3964c9f4b"
   },
   "outputs": [],
   "source": [
    "# Subtração (-): Para subtrair um número de outro.\n",
    "2-1"
   ]
  },
  {
   "cell_type": "code",
   "execution_count": null,
   "metadata": {
    "colab": {
     "base_uri": "https://localhost:8080/"
    },
    "executionInfo": {
     "elapsed": 37,
     "status": "ok",
     "timestamp": 1698321593590,
     "user": {
      "displayName": "Henrique Frank",
      "userId": "12899229419755631625"
     },
     "user_tz": 180
    },
    "id": "VO2WJRcBYPun",
    "outputId": "a041d0a8-938c-41ba-95e1-a7612c694021"
   },
   "outputs": [],
   "source": [
    "# Multiplicação (*): Para multiplicar números.\n",
    "2*2"
   ]
  },
  {
   "cell_type": "code",
   "execution_count": null,
   "metadata": {
    "colab": {
     "base_uri": "https://localhost:8080/"
    },
    "executionInfo": {
     "elapsed": 34,
     "status": "ok",
     "timestamp": 1698321593590,
     "user": {
      "displayName": "Henrique Frank",
      "userId": "12899229419755631625"
     },
     "user_tz": 180
    },
    "id": "9s_lUMGGYPuo",
    "outputId": "44073298-baaa-4b2e-9888-f09ceb4799bc"
   },
   "outputs": [],
   "source": [
    "# Divisão (/): Para dividir números.\n",
    "3/2"
   ]
  },
  {
   "cell_type": "code",
   "execution_count": null,
   "metadata": {
    "colab": {
     "base_uri": "https://localhost:8080/"
    },
    "executionInfo": {
     "elapsed": 33,
     "status": "ok",
     "timestamp": 1698321593590,
     "user": {
      "displayName": "Henrique Frank",
      "userId": "12899229419755631625"
     },
     "user_tz": 180
    },
    "id": "ona11ZaZYPuo",
    "outputId": "37fd02ba-f8d2-4784-f0c2-ec3e0a74b6b5"
   },
   "outputs": [],
   "source": [
    "# Floor Division: Para obter parte inteira da divisão\n",
    "7//4"
   ]
  },
  {
   "cell_type": "markdown",
   "metadata": {
    "id": "82a5B1LFYPup"
   },
   "source": [
    "### 🤔 O que aconteceu?\n",
    "\n",
    " Da última vez que verifiquei, 7 dividido por 4 era igual a 1.75, não 1!\n",
    "\n",
    "A razão pela qual obtemos esse resultado é porque estamos usando uma \"*floor division*\". O operador // (duas barras diagonais) trunca a parte decimal sem arredondar e retorna um resultado inteiro. 📉"
   ]
  },
  {
   "cell_type": "markdown",
   "metadata": {
    "id": "b_gTRjD0YPup"
   },
   "source": [
    "\n",
    "E se quisermos apenas o resto da divisão? 🤔\n",
    "\n",
    "Neste caso, podemos usar o operador de módulo (%), que nos dará o valor que sobra após a divisão."
   ]
  },
  {
   "cell_type": "code",
   "execution_count": null,
   "metadata": {
    "colab": {
     "base_uri": "https://localhost:8080/"
    },
    "executionInfo": {
     "elapsed": 32,
     "status": "ok",
     "timestamp": 1698321593591,
     "user": {
      "displayName": "Henrique Frank",
      "userId": "12899229419755631625"
     },
     "user_tz": 180
    },
    "id": "hURXydlzYPup",
    "outputId": "c0f95d0b-754a-4e5d-f5d9-35d0cd293511"
   },
   "outputs": [],
   "source": [
    "# Módulo (%): Para obter o resto da divisão.\n",
    "7%4"
   ]
  },
  {
   "cell_type": "markdown",
   "metadata": {
    "id": "JUpR721DYPuq"
   },
   "source": [
    "4 cabe em 7 uma vez, com um resto de 3. O operador % retorna o resto após a divisão. 📊"
   ]
  },
  {
   "cell_type": "markdown",
   "metadata": {
    "id": "rUSpG688YPur"
   },
   "source": [
    "### Aritmética Intermediária"
   ]
  },
  {
   "cell_type": "code",
   "execution_count": null,
   "metadata": {
    "colab": {
     "base_uri": "https://localhost:8080/"
    },
    "executionInfo": {
     "elapsed": 30,
     "status": "ok",
     "timestamp": 1698321593591,
     "user": {
      "displayName": "Henrique Frank",
      "userId": "12899229419755631625"
     },
     "user_tz": 180
    },
    "id": "TqEK03i_YPur",
    "outputId": "ab177cdb-0a3e-4f78-ff6e-ba1b5d48bece"
   },
   "outputs": [],
   "source": [
    "# Potenciação\n",
    "2**3"
   ]
  },
  {
   "cell_type": "code",
   "execution_count": null,
   "metadata": {
    "colab": {
     "base_uri": "https://localhost:8080/"
    },
    "executionInfo": {
     "elapsed": 29,
     "status": "ok",
     "timestamp": 1698321593592,
     "user": {
      "displayName": "Henrique Frank",
      "userId": "12899229419755631625"
     },
     "user_tz": 180
    },
    "id": "pnSxhsB9YPur",
    "outputId": "a2332c10-21f7-4dda-91bf-e31957e3e774"
   },
   "outputs": [],
   "source": [
    "# Raiz\n",
    "8**(1/3)"
   ]
  },
  {
   "cell_type": "markdown",
   "metadata": {
    "id": "fuIsxE4p07Qy"
   },
   "source": [
    "### Ordem de Operações no Python 🧮\n",
    "\n",
    "O Python segue uma ordem de operações específica ao avaliar expressões matemáticas. Essa ordem, conhecida como \"PEMDAS\", é a seguinte:\n",
    "\n",
    "1. **P**arênteses (ou colchetes): Primeiro, o Python avalia qualquer expressão dentro de parênteses ou colchetes.\n",
    "\n",
    "2. **E**xpoentes: Em seguida, ele lida com a potenciação, usando o operador **.\n",
    "\n",
    "3. **M**ultiplicação e **D**ivisão: Após os expoentes, o Python realiza a multiplicação e a divisão da esquerda para a direita. Essas operações têm a mesma precedência.\n",
    "\n",
    "4. **A**dição e **S**ubtração: Por fim, ele executa adições e subtrações da esquerda para a direita. Essas operações também têm a mesma precedência.\n",
    "\n",
    "É importante lembrar que, se necessário, você pode usar parênteses para alterar a ordem de avaliação.\n",
    "\n",
    "Respeitar a ordem de operações é fundamental para obter resultados precisos em expressões matemáticas complexas no Python. 👩‍🏫🔍"
   ]
  },
  {
   "cell_type": "code",
   "execution_count": null,
   "metadata": {
    "colab": {
     "base_uri": "https://localhost:8080/"
    },
    "executionInfo": {
     "elapsed": 27,
     "status": "ok",
     "timestamp": 1698321593592,
     "user": {
      "displayName": "Henrique Frank",
      "userId": "12899229419755631625"
     },
     "user_tz": 180
    },
    "id": "Tod-PKApYPur",
    "outputId": "6ae62ba0-4ce0-4671-e92e-90fd5544d93c"
   },
   "outputs": [],
   "source": [
    "# Ordem das operações no Python\n",
    "2 + 10 * 10 + 3"
   ]
  },
  {
   "cell_type": "code",
   "execution_count": null,
   "metadata": {
    "colab": {
     "base_uri": "https://localhost:8080/"
    },
    "executionInfo": {
     "elapsed": 24,
     "status": "ok",
     "timestamp": 1698321593593,
     "user": {
      "displayName": "Henrique Frank",
      "userId": "12899229419755631625"
     },
     "user_tz": 180
    },
    "id": "jG3ivC8xYPus",
    "outputId": "5eb5e8ab-bc87-4f83-9aaa-e18dd65380be"
   },
   "outputs": [],
   "source": [
    "# É possível utilizar parêntesis para alterar a ordem\n",
    "(2+10) * (10+3)"
   ]
  },
  {
   "cell_type": "markdown",
   "metadata": {
    "id": "3XZTkZupYPus"
   },
   "source": [
    "## Atribuições de variáveis\n",
    "\n",
    "Agora que vimos como usar os números no Python como calculadora, vamos ver como podemos atribuir nomes e criar variáveis.\n",
    "\n",
    "Usamos um único sinal de igual para atribuir rótulos a variáveis. Vamos ver alguns exemplos de como podemos fazer isso."
   ]
  },
  {
   "cell_type": "code",
   "execution_count": null,
   "metadata": {
    "collapsed": true,
    "id": "EhIq3pmnYPus"
   },
   "outputs": [],
   "source": [
    "# Vamos criar uma variável chamada \"a\" e atribuir o número 5\n",
    "a = 5"
   ]
  },
  {
   "cell_type": "markdown",
   "metadata": {
    "id": "rciJKJhEYPus"
   },
   "source": [
    "Agora, se eu utilizar *a* no meu script Python, o Python o tratará como o número 5."
   ]
  },
  {
   "cell_type": "code",
   "execution_count": null,
   "metadata": {
    "colab": {
     "base_uri": "https://localhost:8080/"
    },
    "executionInfo": {
     "elapsed": 21,
     "status": "ok",
     "timestamp": 1698321593594,
     "user": {
      "displayName": "Henrique Frank",
      "userId": "12899229419755631625"
     },
     "user_tz": 180
    },
    "id": "_1yEBXTsYPut",
    "outputId": "81985c54-6827-45ef-f547-87bfa9009d8e"
   },
   "outputs": [],
   "source": [
    "# Adicionando duas variáveis\n",
    "a+a"
   ]
  },
  {
   "cell_type": "markdown",
   "metadata": {
    "id": "0oDzMIAZYPut"
   },
   "source": [
    "Reatribuição de Variáveis\n",
    "\n",
    "Python permite redefinir variáveis conforme necessário. Por exemplo:"
   ]
  },
  {
   "cell_type": "code",
   "execution_count": null,
   "metadata": {
    "collapsed": true,
    "id": "urkYYgVkYPut"
   },
   "outputs": [],
   "source": [
    "# Reatribuição\n",
    "a = 10"
   ]
  },
  {
   "cell_type": "code",
   "execution_count": null,
   "metadata": {
    "colab": {
     "base_uri": "https://localhost:8080/"
    },
    "executionInfo": {
     "elapsed": 80,
     "status": "ok",
     "timestamp": 1698321594040,
     "user": {
      "displayName": "Henrique Frank",
      "userId": "12899229419755631625"
     },
     "user_tz": 180
    },
    "id": "YBslZd8AYPut",
    "outputId": "8170804f-7cab-475e-de85-ab6e9d29ddb2"
   },
   "outputs": [],
   "source": [
    "# Check\n",
    "a"
   ]
  },
  {
   "cell_type": "markdown",
   "metadata": {
    "id": "Yti0qYMtYPut"
   },
   "source": [
    "Sim! O Python permite que você re-escreva valor em variáveis com valores pré-atribuídos. Também podemos usar as próprias variáveis ao fazer a reatribuição. Aqui está um exemplo do que quero dizer:"
   ]
  },
  {
   "cell_type": "code",
   "execution_count": null,
   "metadata": {
    "colab": {
     "base_uri": "https://localhost:8080/"
    },
    "executionInfo": {
     "elapsed": 70,
     "status": "ok",
     "timestamp": 1698321594041,
     "user": {
      "displayName": "Henrique Frank",
      "userId": "12899229419755631625"
     },
     "user_tz": 180
    },
    "id": "-UWXo3TWYPut",
    "outputId": "87983078-ac26-4e65-a2f5-16890e081eae"
   },
   "outputs": [],
   "source": [
    "# Verificar\n",
    "a"
   ]
  },
  {
   "cell_type": "code",
   "execution_count": null,
   "metadata": {
    "collapsed": true,
    "id": "f8biueJfYPuu"
   },
   "outputs": [],
   "source": [
    "# Use a para redefinir a\n",
    "a = a + a"
   ]
  },
  {
   "cell_type": "code",
   "execution_count": null,
   "metadata": {
    "colab": {
     "base_uri": "https://localhost:8080/"
    },
    "executionInfo": {
     "elapsed": 67,
     "status": "ok",
     "timestamp": 1698321594043,
     "user": {
      "displayName": "Henrique Frank",
      "userId": "12899229419755631625"
     },
     "user_tz": 180
    },
    "id": "SSLQsjK-YPuu",
    "outputId": "9ed5e016-308f-4c43-85a8-327694b63ac1"
   },
   "outputs": [],
   "source": [
    "# Verificar\n",
    "a"
   ]
  },
  {
   "cell_type": "markdown",
   "metadata": {
    "id": "JJnXrZqzYPuu"
   },
   "source": [
    "### **Variáveis em Python** 🐍\n",
    "\n",
    "Variáveis são como rótulos que usamos para armazenar informações em Python. É importante seguir algumas regras ao nomeá-las:\n",
    "\n",
    "1. **Não comece com números** 🚫: Os nomes das variáveis não podem iniciar com dígitos.\n",
    "2. **Evite espaços, use \"_\"** 🚫: Não inclua espaços nos nomes; em vez disso, utilize o caractere \"_\" para separar palavras.\n",
    "3. **Evite símbolos especiais** 🚫: Evite o uso de símbolos como :'\",<>/?|\\()!@#$%^&*~-+.\n",
    "4. **Melhor prática: nomes em minúsculas (PEP8)** 📜: É recomendado que os nomes de variáveis sejam escritos em letras minúsculas.\n",
    "5. **Evite caracteres confundíveis** 🚫: Evite usar letras como 'l' (letra \"l\" minúscula), 'O' (letra \"o\" maiúscula) e 'I' (letra \"i\" maiúscula) como nomes de variáveis de um único caractere.\n",
    "6. **Evite palavras com significados especiais em Python** 🚫: Evite utilizar palavras reservadas em Python, como \"list\" e \"str\", como nomes de variáveis.\n",
    "\n",
    "O uso adequado de variáveis ajuda a manter seu código organizado e compreensível. Elas são fundamentais para acompanhar diferentes valores e informações em seus programas. Por exemplo:"
   ]
  },
  {
   "cell_type": "code",
   "execution_count": null,
   "metadata": {
    "collapsed": true,
    "id": "D16q46NpYPuu"
   },
   "outputs": [],
   "source": [
    "# Use os nomes das variáveis para acompanhar melhor o que está acontecendo no seu código!\n",
    "\n",
    "my_income = 100\n",
    "\n",
    "tax_rate = 0.1\n",
    "\n",
    "my_taxes = my_income*tax_rate"
   ]
  },
  {
   "cell_type": "markdown",
   "metadata": {
    "id": "Zg-Vpi4zYPuu"
   },
   "source": [
    "**Então, o que aprendemos até agora?** 🤓\n",
    "\n",
    "Aprendemos alguns conceitos básicos sobre números em Python. Também exploramos como realizar operações aritméticas e usar Python como uma calculadora simples. Além disso, discutimos o processo de atribuição de variáveis em Python.\n",
    "\n",
    "Agora, o próximo passo é aprender sobre **Strings**! As strings são sequências de caracteres e têm uma importância fundamental na programação. Vamos continuar nossa jornada de aprendizado! 👏📚"
   ]
  },
  {
   "cell_type": "markdown",
   "metadata": {
    "id": "3mRPMsQsmriS"
   },
   "source": [
    "# Cadeias de Caracteres (Strings) 📝"
   ]
  },
  {
   "cell_type": "markdown",
   "metadata": {
    "id": "XpoyghUMmriT"
   },
   "source": [
    "As strings são usadas em Python para armazenar informações de texto, como nomes. Em Python, as strings são na verdade uma sequência, o que significa que o Python mantém o controle de cada elemento na string como uma sequência. Por exemplo, o Python entende a string \"olá\" como uma sequência de letras em uma ordem específica. Isso significa que podemos usar a indexação para pegar letras específicas, como a primeira letra ou a última letra.\n",
    "\n",
    "Essa ideia de uma sequência é importante em Python e a exploraremos mais no futuro.\n",
    "\n",
    "Nesta aula, vamos aprender sobre o seguinte:\n",
    "\n",
    "**Aprendendo sobre Strings em Python** 📝\n",
    "\n",
    "Vamos explorar os conceitos essenciais sobre Strings em Python:\n",
    "\n",
    "1. **Criando Strings** 📜: Aprenderemos como criar strings, que são sequências de caracteres, em Python.\n",
    "\n",
    "2. **Printando uma String** 🖨️: Descobriremos como exibir strings na tela, permitindo-nos ver o conteúdo.\n",
    "\n",
    "3. **Indexação e Strings Slicing** 🔪: Entenderemos como acessar caracteres específicos em uma string e como fatiar strings para obter partes desejadas.\n",
    "\n",
    "4. **Propriedades de Strings**: Abordaremos algumas propriedades importantes das strings em Python.\n",
    "\n",
    "5. **Métodos de Strings** 🛠️: Exploraremos os métodos que podem ser aplicados a strings para realizar várias operações, como transformações, pesquisa e substituição.\n",
    "\n",
    "Vamos começar a nossa jornada de aprendizado sobre Strings em Python! 👩‍💻👨‍💻"
   ]
  },
  {
   "cell_type": "markdown",
   "metadata": {
    "id": "y61NNta1mriT"
   },
   "source": [
    "## **Criando Strings** 📜\n",
    "Em Python, você pode criar uma string colocando o texto entre aspas simples (' '), aspas duplas (\" \"), ou até mesmo aspas triplas (''' ' ''' ou \"\"\" \"\"\"). Por exemplo:"
   ]
  },
  {
   "cell_type": "code",
   "execution_count": null,
   "metadata": {
    "colab": {
     "base_uri": "https://localhost:8080/",
     "height": 36
    },
    "executionInfo": {
     "elapsed": 62,
     "status": "ok",
     "timestamp": 1698321594045,
     "user": {
      "displayName": "Henrique Frank",
      "userId": "12899229419755631625"
     },
     "user_tz": 180
    },
    "id": "DwWPYUB9mriU",
    "outputId": "f0e7660c-5426-4dcc-9364-3a5dd2620123"
   },
   "outputs": [],
   "source": [
    "# Palavra única\n",
    "\"olá\""
   ]
  },
  {
   "cell_type": "code",
   "execution_count": null,
   "metadata": {
    "colab": {
     "base_uri": "https://localhost:8080/",
     "height": 36
    },
    "executionInfo": {
     "elapsed": 56,
     "status": "ok",
     "timestamp": 1698321594046,
     "user": {
      "displayName": "Henrique Frank",
      "userId": "12899229419755631625"
     },
     "user_tz": 180
    },
    "id": "BUJs_knxmriV",
    "outputId": "ca62b396-8795-456a-8673-16fa345b5d10"
   },
   "outputs": [],
   "source": [
    "# Frase completa\n",
    "'Isso também é uma string'"
   ]
  },
  {
   "cell_type": "code",
   "execution_count": null,
   "metadata": {
    "colab": {
     "base_uri": "https://localhost:8080/",
     "height": 36
    },
    "executionInfo": {
     "elapsed": 52,
     "status": "ok",
     "timestamp": 1698321594046,
     "user": {
      "displayName": "Henrique Frank",
      "userId": "12899229419755631625"
     },
     "user_tz": 180
    },
    "id": "dqbmVSnHmriW",
    "outputId": "5ff780d1-e163-4ee8-da80-6f6854bce7bd"
   },
   "outputs": [],
   "source": [
    "# Também podemos usar aspas duplas\n",
    "\"String criada com aspas duplas\""
   ]
  },
  {
   "cell_type": "code",
   "execution_count": null,
   "metadata": {
    "colab": {
     "base_uri": "https://localhost:8080/",
     "height": 182
    },
    "executionInfo": {
     "elapsed": 50,
     "status": "error",
     "timestamp": 1698321594047,
     "user": {
      "displayName": "Henrique Frank",
      "userId": "12899229419755631625"
     },
     "user_tz": 180
    },
    "id": "GTnk4k2QmriX",
    "outputId": "71b95486-8d8d-4b87-cb0f-c351475f2e80"
   },
   "outputs": [],
   "source": [
    "# Cuidado!\n",
    "'Eu estou usando aspas simples, mas isso não funcionará e causará um erro. Para evitar, você pode usar 'string delimitada por aspas duplas'.'"
   ]
  },
  {
   "cell_type": "markdown",
   "metadata": {
    "id": "bxz7Q7UHmriX"
   },
   "source": [
    "O erro mencionado ocorre devido à aspa simples em 'string delimitada por aspas duplas', que interrompe a string delimitada por aspas simples. Para evitar esse problema, você pode usar combinações de aspas simples e duplas para obter a declaração completa"
   ]
  },
  {
   "cell_type": "code",
   "execution_count": null,
   "metadata": {
    "colab": {
     "base_uri": "https://localhost:8080/",
     "height": 55
    },
    "executionInfo": {
     "elapsed": 21,
     "status": "ok",
     "timestamp": 1698321600246,
     "user": {
      "displayName": "Henrique Frank",
      "userId": "12899229419755631625"
     },
     "user_tz": 180
    },
    "id": "LuHzGmsgmriY",
    "outputId": "106d3acc-777d-4bbd-8401-02f09a9f7c1d"
   },
   "outputs": [],
   "source": [
    "# Tome cuidado com as aspas!\n",
    "\"Eu estou usando aspas simples, mas isso não funcionará e causará um erro. Para evitar, você pode usar 'string delimitada por aspas duplas'.\""
   ]
  },
  {
   "cell_type": "markdown",
   "metadata": {
    "id": "Sn5J0A4dmriZ"
   },
   "source": [
    "## Printando uma String\n",
    "\n",
    "Embora Jupyter Notebook possa exibir automaticamente strings quando você as coloca em uma célula, a maneira correta de mostrar strings na saída é usando a função print."
   ]
  },
  {
   "cell_type": "code",
   "execution_count": null,
   "metadata": {
    "id": "4E0hNl2-mriZ",
    "outputId": "8d122183-4f28-4693-da22-dfa280ff31c8"
   },
   "outputs": [],
   "source": [
    "# Podemos simplesmente declarar uma string\n",
    "'Hello World'"
   ]
  },
  {
   "cell_type": "code",
   "execution_count": null,
   "metadata": {
    "id": "bfjd0QawmriZ",
    "outputId": "9d17f4d9-35d2-4fc9-adb1-77b0f1ab9cc0"
   },
   "outputs": [],
   "source": [
    "# Observe que não podemos produzir várias strings dessa maneira\n",
    "'Hello World 1'\n",
    "'Hello World 2'"
   ]
  },
  {
   "cell_type": "markdown",
   "metadata": {
    "id": "cQIMkuONmriZ"
   },
   "source": [
    "Podemos usar uma declaração de impressão para imprimir uma string."
   ]
  },
  {
   "cell_type": "code",
   "execution_count": null,
   "metadata": {
    "id": "1G-an3JSmriZ",
    "outputId": "0d4b7d6b-7a34-4685-8847-0a609a6a49e0"
   },
   "outputs": [],
   "source": [
    "print('Hello World 1')\n",
    "print('Hello World 2')\n",
    "print('Use \\ n para imprimir uma nova linha')\n",
    "print('\\n')\n",
    "print('Viu só?')"
   ]
  },
  {
   "cell_type": "markdown",
   "metadata": {
    "id": "eFQiDGiemrib"
   },
   "source": [
    "## Indexação e String slicing 🔪\n",
    "Em Python, as strings são tratadas como sequências de caracteres, o que significa que você pode usar índices para acessar partes da sequência. A indexação em Python começa em 0. Vamos criar um novo objeto chamado s e explorar alguns exemplos de indexação."
   ]
  },
  {
   "cell_type": "code",
   "execution_count": null,
   "metadata": {
    "collapsed": true,
    "id": "FjOyROTemrib"
   },
   "outputs": [],
   "source": [
    "# Atribua s como uma string\n",
    "s = 'Hello World'"
   ]
  },
  {
   "cell_type": "code",
   "execution_count": null,
   "metadata": {
    "id": "LzxpjXyhmrib",
    "outputId": "b9d31d32-66ab-4415-b5d1-3cbbc10237e6"
   },
   "outputs": [],
   "source": [
    "#Check\n",
    "s"
   ]
  },
  {
   "cell_type": "code",
   "execution_count": null,
   "metadata": {
    "id": "kby7S8ymmrib",
    "outputId": "87f8c681-09e3-4870-af82-f990736a702d"
   },
   "outputs": [],
   "source": [
    "# Imprima o objeto\n",
    "print(s)"
   ]
  },
  {
   "cell_type": "markdown",
   "metadata": {
    "id": "z8KVJaGRmric"
   },
   "source": [
    "Vamos começar a indexar!"
   ]
  },
  {
   "cell_type": "code",
   "execution_count": null,
   "metadata": {
    "id": "NiLmLbj3mric",
    "outputId": "a3773d2d-040e-433b-a836-23974c7231bd"
   },
   "outputs": [],
   "source": [
    "# Mostre o primeiro elemento (neste caso, uma letra)\n",
    "s[0]"
   ]
  },
  {
   "cell_type": "code",
   "execution_count": null,
   "metadata": {
    "id": "wpGUDGkYmric",
    "outputId": "ff07140a-4845-447a-feda-351811eb1e71"
   },
   "outputs": [],
   "source": [
    "s[1]"
   ]
  },
  {
   "cell_type": "code",
   "execution_count": null,
   "metadata": {
    "id": "EPO18JWFmric",
    "outputId": "75dd4dc3-7367-47a5-aea1-a20ad138b960"
   },
   "outputs": [],
   "source": [
    "s[2]"
   ]
  },
  {
   "cell_type": "markdown",
   "metadata": {
    "id": "WnaOJgwcmrid"
   },
   "source": [
    "Podemos usar um <code>: </code> para executar * Slicing *, que corta até o ponto definido. Por exemplo:"
   ]
  },
  {
   "cell_type": "code",
   "execution_count": null,
   "metadata": {
    "id": "Eq8aZjqEmrid",
    "outputId": "19b8af0a-0a67-4c74-cc39-d99f81140d23"
   },
   "outputs": [],
   "source": [
    "# Pegue tudo após o primeiro posição até o comprimento de S, que é len(s)\n",
    "s[1:]"
   ]
  },
  {
   "cell_type": "code",
   "execution_count": null,
   "metadata": {
    "id": "G8ytdBWkmrid",
    "outputId": "308bf174-0042-4270-d4b2-14936cfd08cc"
   },
   "outputs": [],
   "source": [
    "# Observe que não há alteração na variável original\n",
    "s"
   ]
  },
  {
   "cell_type": "code",
   "execution_count": null,
   "metadata": {
    "id": "RVOD1XkEmrid",
    "outputId": "cd78daeb-d98e-49b7-b79d-4e8e1f3ea2f3"
   },
   "outputs": [],
   "source": [
    "# Pegue tudo até o 3º índice\n",
    "s[:4]"
   ]
  },
  {
   "cell_type": "markdown",
   "metadata": {
    "id": "_Ir4caJ3mrid"
   },
   "source": [
    "Observe o fatiamento acima. Aqui estamos instruindo o Python a pegar tudo a partir do índice 0 até o 3. Isso não inclui o índice 3. Você perceberá isso com frequência no Python, onde as declarações geralmente se referem ao contexto de \"até, mas não incluindo\"."
   ]
  },
  {
   "cell_type": "code",
   "execution_count": null,
   "metadata": {
    "id": "hQPn8-mmmrid",
    "outputId": "9a377d7a-0544-4928-f3d0-fb135e661e85"
   },
   "outputs": [],
   "source": [
    "#Tudo\n",
    "s[:]"
   ]
  },
  {
   "cell_type": "markdown",
   "metadata": {
    "id": "aSFpSrwJmrie"
   },
   "source": [
    "Também podemos usar indexação negativa para voltar para trás."
   ]
  },
  {
   "cell_type": "code",
   "execution_count": null,
   "metadata": {
    "id": "vKD_4Q33mrie",
    "outputId": "75a157f2-5f12-47df-8017-e229235b8fa0"
   },
   "outputs": [],
   "source": [
    "# Última letra (um índice antes de 0, então ela volta ao início)\n",
    "s[-1]"
   ]
  },
  {
   "cell_type": "code",
   "execution_count": null,
   "metadata": {
    "id": "7qUQ4m9tmrie",
    "outputId": "e0af9945-b669-490b-ccc3-a75f0971a784"
   },
   "outputs": [],
   "source": [
    "# Pegue tudo, menos a última letra\n",
    "s[:-1]"
   ]
  },
  {
   "cell_type": "markdown",
   "metadata": {
    "id": "xPnW4wswmrie"
   },
   "source": [
    "Também podemos usar notação de índice e fatiamento para pegar elementos de uma sequência com um tamanho de etapa especificado (o padrão é 1). Por exemplo, podemos usar dois dois-pontos em sequência e, em seguida, um número que especifica a frequência para pegar elementos. Por exemplo:"
   ]
  },
  {
   "cell_type": "code",
   "execution_count": null,
   "metadata": {
    "id": "gB8PM16kmrie",
    "outputId": "2ed8ada7-01ed-47e7-fb73-fbec99b5b52f"
   },
   "outputs": [],
   "source": [
    "# Pegue tudo, mas vá em passos de 1\n",
    "s[::1]"
   ]
  },
  {
   "cell_type": "code",
   "execution_count": null,
   "metadata": {
    "id": "VH-twRlkmrij",
    "outputId": "ed689895-b49f-4d6c-d375-bbcba4538e94"
   },
   "outputs": [],
   "source": [
    "# Pegue tudo, mas vá em passos de 2\n",
    "s[::2]"
   ]
  },
  {
   "cell_type": "code",
   "execution_count": null,
   "metadata": {
    "id": "i2r4JC4Vmrij",
    "outputId": "8c5c436d-b811-4c35-fa52-dc2f0fb55039"
   },
   "outputs": [],
   "source": [
    "# Podemos usar isso para imprimir uma string de trás pra frente\n",
    "s[::-1]"
   ]
  },
  {
   "cell_type": "markdown",
   "metadata": {
    "id": "Z3C2X29ymril"
   },
   "source": [
    "## Métodos Básicos Integrados de Strings 📚\n",
    "\n",
    "Em Python, os objetos geralmente possuem métodos integrados. Esses métodos são funções dentro do objeto (vamos aprender mais sobre eles em detalhes posteriormente) que podem executar ações ou comandos no próprio objeto.\n",
    "\n",
    "Chamamos os métodos com um ponto e, em seguida, o nome do método. Os métodos têm a seguinte forma:\n",
    "\n",
    "```\n",
    "objeto.metodo(parametros)\n",
    "```\n",
    "\n",
    "Onde os parâmetros são argumentos extras que podemos passar para o método. Não se preocupe se os detalhes não fizerem todo o sentido agora. Mais adiante, estaremos criando nossos próprios objetos e funções!\n",
    "\n",
    "Aqui estão alguns exemplos de métodos integrados em strings: 🎉"
   ]
  },
  {
   "cell_type": "code",
   "execution_count": null,
   "metadata": {
    "id": "T9GoMnHNmril",
    "outputId": "021309b2-3ed2-42da-ecd3-59b9c7422ab3"
   },
   "outputs": [],
   "source": [
    "s"
   ]
  },
  {
   "cell_type": "code",
   "execution_count": null,
   "metadata": {
    "id": "Z8SuhDz5mril",
    "outputId": "8f4df5c5-19f2-405e-ac7a-04ac549e14ce"
   },
   "outputs": [],
   "source": [
    "# Upper Case string\n",
    "s.upper()"
   ]
  },
  {
   "cell_type": "code",
   "execution_count": null,
   "metadata": {
    "id": "Y2AlHEhhmril",
    "outputId": "2fe10e68-71f3-4e5d-aabc-6705982dccea"
   },
   "outputs": [],
   "source": [
    "# Lower case\n",
    "s.lower()"
   ]
  },
  {
   "cell_type": "code",
   "execution_count": null,
   "metadata": {
    "id": "eHmDXP_hmrim",
    "outputId": "fabee3e5-5c81-4828-d4e5-5e1678a47fd0"
   },
   "outputs": [],
   "source": [
    "# Divida uma string por espaço em branco (este é o padrão)\n",
    "s.split()"
   ]
  },
  {
   "cell_type": "code",
   "execution_count": null,
   "metadata": {
    "id": "Lh1x2NZomrim",
    "outputId": "00f93642-a3ee-4897-a183-0099f54ccdae"
   },
   "outputs": [],
   "source": [
    "# Dividido por um elemento específico (não inclui o elemento que foi dividido)\n",
    "s.split('W')"
   ]
  },
  {
   "cell_type": "markdown",
   "metadata": {
    "id": "UKmAX04EoPmX"
   },
   "source": [
    "## Listas 📋\n",
    "\n",
    "Anteriormente, ao discutir as strings, introduzimos o conceito de uma *sequência* em Python. Listas podem ser consideradas a versão mais geral de uma *sequência* em Python. Ao contrário das strings, elas são mutáveis, o que significa que os elementos dentro de uma lista podem ser alterados!\n",
    "\n",
    "Nesta seção, aprenderemos sobre:\n",
    "\n",
    "1. **Criando Listas** ✍️\n",
    "2. **Indexação e Fatiamento de Listas** 🔍\n",
    "3. **Métodos Básicos de Listas** 🧰\n",
    "4. **Aninhamento de Listas** 📥\n",
    "5. **Introdução às List Comprehensions** 🚀\n",
    "\n",
    "As listas são construídas com colchetes `[]` e vírgulas separando cada elemento na lista.\n",
    "\n",
    "Vamos ver como podemos construir listas! 📄👍"
   ]
  },
  {
   "cell_type": "code",
   "execution_count": null,
   "metadata": {
    "collapsed": true,
    "id": "K-KsIB6ooPmY"
   },
   "outputs": [],
   "source": [
    "# Atribua uma lista a uma variável chamada my_list\n",
    "my_list = [1,2,3]"
   ]
  },
  {
   "cell_type": "code",
   "execution_count": null,
   "metadata": {},
   "outputs": [],
   "source": [
    "my_list"
   ]
  },
  {
   "cell_type": "markdown",
   "metadata": {
    "id": "AR68t7j8oPmZ"
   },
   "source": [
    "Acabamos de criar uma lista de números inteiros, mas as listas podem conter diferentes tipos de variáveis. Por exemplo:"
   ]
  },
  {
   "cell_type": "code",
   "execution_count": null,
   "metadata": {
    "collapsed": true,
    "id": "8VC6ceJNoPmZ"
   },
   "outputs": [],
   "source": [
    "my_list = ['Uma string',23,100.232,'o']"
   ]
  },
  {
   "cell_type": "markdown",
   "metadata": {
    "id": "kRCzw1dYoPmZ"
   },
   "source": [
    "Assim como Strings, a função len() informará quantos itens estão na sequência da lista."
   ]
  },
  {
   "cell_type": "code",
   "execution_count": null,
   "metadata": {
    "id": "j7DpRW-KoPmZ",
    "outputId": "18804bb2-9a42-442a-b00e-ee11b9926b22"
   },
   "outputs": [],
   "source": [
    "len(my_list)"
   ]
  },
  {
   "cell_type": "markdown",
   "metadata": {
    "id": "TiilYM-boPma"
   },
   "source": [
    "### Indexação e fatia\n",
    "Indexação e fatiamento funcionam como nas strings. Vamos fazer uma nova lista para nos lembrar de como isso funciona:"
   ]
  },
  {
   "cell_type": "code",
   "execution_count": 42,
   "metadata": {
    "collapsed": true,
    "id": "SQ5mgUMpoPma"
   },
   "outputs": [],
   "source": [
    "my_list = ['um', 'dois', 'três', 4, 5]"
   ]
  },
  {
   "cell_type": "code",
   "execution_count": 3,
   "metadata": {
    "id": "XBoIXy_MoPma",
    "outputId": "ffcded00-d52e-4525-8d33-728236acdbb9"
   },
   "outputs": [
    {
     "data": {
      "text/plain": [
       "'um'"
      ]
     },
     "execution_count": 3,
     "metadata": {},
     "output_type": "execute_result"
    }
   ],
   "source": [
    "# Pegue o elemento na posição 0\n",
    "my_list[0]"
   ]
  },
  {
   "cell_type": "code",
   "execution_count": 4,
   "metadata": {
    "id": "EH-tFfYHoPma",
    "outputId": "13f17ff1-56ba-4396-e7cf-aab325c07720"
   },
   "outputs": [
    {
     "data": {
      "text/plain": [
       "['dois', 'três', 4, 5]"
      ]
     },
     "execution_count": 4,
     "metadata": {},
     "output_type": "execute_result"
    }
   ],
   "source": [
    "# Pegue o elemento na posição 1 até o final da lista\n",
    "my_list[1:]"
   ]
  },
  {
   "cell_type": "code",
   "execution_count": 5,
   "metadata": {
    "id": "V99apoAtoPmb",
    "outputId": "4ce2d920-8ce6-4639-b649-84259753e11b"
   },
   "outputs": [
    {
     "data": {
      "text/plain": [
       "['um', 'dois', 'três']"
      ]
     },
     "execution_count": 5,
     "metadata": {},
     "output_type": "execute_result"
    }
   ],
   "source": [
    "# Pegue tudo até o elemento na posição 3\n",
    "my_list[:3]"
   ]
  },
  {
   "cell_type": "markdown",
   "metadata": {
    "id": "e-uFuPMuoPmc"
   },
   "source": [
    "Também podemos utilizar * para duplicar a lista:"
   ]
  },
  {
   "cell_type": "code",
   "execution_count": 8,
   "metadata": {
    "id": "2e1fKH1ioPmc",
    "outputId": "af6da54d-26c3-418f-cfeb-efc7ddd3ccaa"
   },
   "outputs": [
    {
     "data": {
      "text/plain": [
       "['um',\n",
       " 'dois',\n",
       " 'três',\n",
       " 4,\n",
       " 5,\n",
       " 'um',\n",
       " 'dois',\n",
       " 'três',\n",
       " 4,\n",
       " 5,\n",
       " 'um',\n",
       " 'dois',\n",
       " 'três',\n",
       " 4,\n",
       " 5]"
      ]
     },
     "execution_count": 8,
     "metadata": {},
     "output_type": "execute_result"
    }
   ],
   "source": [
    "# Duplique a lista\n",
    "my_list * 3"
   ]
  },
  {
   "cell_type": "markdown",
   "metadata": {
    "id": "Ls6Hq9FPoPmd"
   },
   "source": [
    "## Métodos Básicos de Listas\n",
    "\n",
    "Se você tem familiaridade com outra linguagem de programação, pode começar a traçar paralelos entre arrays em outra linguagem e listas em Python. No entanto, as listas em Python tendem a ser mais flexíveis do que arrays em outras linguagens, por duas boas razões: elas não têm tamanho fixo (ou seja, não precisamos especificar o tamanho de uma lista) e não têm restrição de tipo fixo (como vimos anteriormente).\n",
    "\n",
    "Vamos explorar alguns métodos especiais adicionais para listas: 📋🛠️"
   ]
  },
  {
   "cell_type": "code",
   "execution_count": 9,
   "metadata": {
    "collapsed": true,
    "id": "l1FVi8WOoPmd"
   },
   "outputs": [],
   "source": [
    "# Crie uma nova lista\n",
    "list1 = [1,2,3]"
   ]
  },
  {
   "cell_type": "markdown",
   "metadata": {
    "id": "hHK_DEgwoPmd"
   },
   "source": [
    "Use o método **append** para adicionar permanentemente um item ao final de uma lista:"
   ]
  },
  {
   "cell_type": "code",
   "execution_count": 10,
   "metadata": {
    "collapsed": true,
    "id": "ckL-Kpm_oPmd"
   },
   "outputs": [],
   "source": [
    "# Append\n",
    "list1.append('append me!')"
   ]
  },
  {
   "cell_type": "code",
   "execution_count": 11,
   "metadata": {
    "id": "-8EIooOAoPmd",
    "outputId": "9dc9866c-cbdc-4527-bbe6-4020fdfb3f8c"
   },
   "outputs": [
    {
     "data": {
      "text/plain": [
       "[1, 2, 3, 'append me!']"
      ]
     },
     "execution_count": 11,
     "metadata": {},
     "output_type": "execute_result"
    }
   ],
   "source": [
    "# Show\n",
    "list1"
   ]
  },
  {
   "cell_type": "markdown",
   "metadata": {
    "id": "cslk8rAfoPmd"
   },
   "source": [
    "Use **pop** para \"retirar\" um item da lista. Por padrão, o **pop** remove o último índice, mas você também pode especificar qual índice deseja remover. Vamos ver um exemplo:"
   ]
  },
  {
   "cell_type": "code",
   "execution_count": 14,
   "metadata": {
    "id": "Sk3PRsmcoPme",
    "outputId": "da99ba7a-51fb-4360-b48d-ed4298bcc19c"
   },
   "outputs": [
    {
     "data": {
      "text/plain": [
       "2"
      ]
     },
     "execution_count": 14,
     "metadata": {},
     "output_type": "execute_result"
    }
   ],
   "source": [
    "# Remova o item 0 da lista\n",
    "list1.pop(0)"
   ]
  },
  {
   "cell_type": "code",
   "execution_count": 18,
   "metadata": {
    "id": "k7XTOTURoPme",
    "outputId": "e483515a-bc87-4bff-de3e-9fa17e035ea7"
   },
   "outputs": [
    {
     "data": {
      "text/plain": [
       "[3]"
      ]
     },
     "execution_count": 18,
     "metadata": {},
     "output_type": "execute_result"
    }
   ],
   "source": [
    "# Exibir\n",
    "list1"
   ]
  },
  {
   "cell_type": "code",
   "execution_count": 16,
   "metadata": {
    "collapsed": true,
    "id": "X3IsY2rVoPme"
   },
   "outputs": [],
   "source": [
    "# Assign the popped element, remember default popped index is -1\n",
    "popped_item = list1.pop()"
   ]
  },
  {
   "cell_type": "code",
   "execution_count": 17,
   "metadata": {
    "id": "DBDlmf5DoPme",
    "outputId": "1c6f47bf-e5c2-4fe8-a2ff-0c408b3f4292"
   },
   "outputs": [
    {
     "data": {
      "text/plain": [
       "'append me!'"
      ]
     },
     "execution_count": 17,
     "metadata": {},
     "output_type": "execute_result"
    }
   ],
   "source": [
    "popped_item"
   ]
  },
  {
   "cell_type": "code",
   "execution_count": 19,
   "metadata": {
    "id": "1SRQQdr6oPme",
    "outputId": "bb875b3e-4d27-472a-dba7-a7f71c4c6dff"
   },
   "outputs": [
    {
     "data": {
      "text/plain": [
       "[3]"
      ]
     },
     "execution_count": 19,
     "metadata": {},
     "output_type": "execute_result"
    }
   ],
   "source": [
    "# Mostre a lista restante\n",
    "list1"
   ]
  },
  {
   "cell_type": "markdown",
   "metadata": {
    "id": "lA0GgDVpoPme"
   },
   "source": [
    "Deve-se notar também que a indexação das listas retornará um erro se não houver elemento nesse índice. Por exemplo:"
   ]
  },
  {
   "cell_type": "code",
   "execution_count": 20,
   "metadata": {
    "id": "aYJo9nYgoPmf",
    "outputId": "cb8ad1eb-2cb6-42fe-b7ba-ac90fda0b78a"
   },
   "outputs": [
    {
     "ename": "IndexError",
     "evalue": "list index out of range",
     "output_type": "error",
     "traceback": [
      "\u001b[1;31m---------------------------------------------------------------------------\u001b[0m",
      "\u001b[1;31mIndexError\u001b[0m                                Traceback (most recent call last)",
      "Cell \u001b[1;32mIn[20], line 1\u001b[0m\n\u001b[1;32m----> 1\u001b[0m \u001b[43mlist1\u001b[49m\u001b[43m[\u001b[49m\u001b[38;5;241;43m100\u001b[39;49m\u001b[43m]\u001b[49m\n",
      "\u001b[1;31mIndexError\u001b[0m: list index out of range"
     ]
    }
   ],
   "source": [
    "list1[100]"
   ]
  },
  {
   "cell_type": "markdown",
   "metadata": {
    "id": "A4DuIvZYoPmf"
   },
   "source": [
    "Podemos usar o método **sort()** e os métodos **reverse()** para também afetar suas listas:"
   ]
  },
  {
   "cell_type": "code",
   "execution_count": 21,
   "metadata": {
    "collapsed": true,
    "id": "xNKAltGcoPmf"
   },
   "outputs": [],
   "source": [
    "new_list = ['a','e','x','b','c']"
   ]
  },
  {
   "cell_type": "code",
   "execution_count": 22,
   "metadata": {
    "id": "hdoTSSqroPmf",
    "outputId": "9a5f7841-756e-4398-826c-0dba6c2d0e8e"
   },
   "outputs": [
    {
     "data": {
      "text/plain": [
       "['a', 'e', 'x', 'b', 'c']"
      ]
     },
     "execution_count": 22,
     "metadata": {},
     "output_type": "execute_result"
    }
   ],
   "source": [
    "# Exibir\n",
    "new_list"
   ]
  },
  {
   "cell_type": "code",
   "execution_count": 27,
   "metadata": {
    "collapsed": true,
    "id": "_hYt2Y5RoPmf"
   },
   "outputs": [],
   "source": [
    "# Use 'reverse' para inverter a lista  (isso é permanente!)\n",
    "new_list.reverse()"
   ]
  },
  {
   "cell_type": "code",
   "execution_count": 28,
   "metadata": {
    "id": "zJZceqRboPmj",
    "outputId": "35b0c9e2-b5ec-4fa1-9262-cb69fc32364a"
   },
   "outputs": [
    {
     "data": {
      "text/plain": [
       "['x', 'e', 'c', 'b', 'a']"
      ]
     },
     "execution_count": 28,
     "metadata": {},
     "output_type": "execute_result"
    }
   ],
   "source": [
    "new_list"
   ]
  },
  {
   "cell_type": "code",
   "execution_count": 25,
   "metadata": {
    "collapsed": true,
    "id": "BhJqGfQ4oPmk"
   },
   "outputs": [],
   "source": [
    "# Use sort para classificar a lista (neste caso, ordem alfabética, mas ascendente para números)\n",
    "new_list.sort()"
   ]
  },
  {
   "cell_type": "code",
   "execution_count": 26,
   "metadata": {
    "id": "CVUW7VLIoPmk",
    "outputId": "8f65be7e-1332-4376-97f9-ccd5d9f9b1d1"
   },
   "outputs": [
    {
     "data": {
      "text/plain": [
       "['a', 'b', 'c', 'e', 'x']"
      ]
     },
     "execution_count": 26,
     "metadata": {},
     "output_type": "execute_result"
    }
   ],
   "source": [
    "new_list"
   ]
  },
  {
   "cell_type": "markdown",
   "metadata": {
    "id": "QuRYgsMNo99Z"
   },
   "source": [
    "s"
   ]
  },
  {
   "cell_type": "code",
   "execution_count": 29,
   "metadata": {
    "collapsed": true,
    "id": "MVu5MauPoPml"
   },
   "outputs": [],
   "source": [
    "# Vamos fazer três listas\n",
    "lst_1=[1,2,3]\n",
    "lst_2=[4,5,6]\n",
    "lst_3=[7,8,9]\n",
    "\n",
    "# Faça uma lista de listas para formar uma matriz\n",
    "matrix = [lst_1,lst_2,lst_3]"
   ]
  },
  {
   "cell_type": "code",
   "execution_count": 30,
   "metadata": {
    "id": "OiAUupxEoPml",
    "outputId": "ba56ec45-1290-45e7-c4fe-954107684798"
   },
   "outputs": [
    {
     "data": {
      "text/plain": [
       "[[1, 2, 3], [4, 5, 6], [7, 8, 9]]"
      ]
     },
     "execution_count": 30,
     "metadata": {},
     "output_type": "execute_result"
    }
   ],
   "source": [
    "# Show\n",
    "matrix"
   ]
  },
  {
   "cell_type": "markdown",
   "metadata": {
    "id": "9KH1SRaroPml"
   },
   "source": [
    "Novamente, podemos usar indexação para pegar elementos, mas agora há dois níveis de índice. Os itens no objeto de matriz e, em seguida, os itens dentro daquela lista!"
   ]
  },
  {
   "cell_type": "code",
   "execution_count": 34,
   "metadata": {
    "id": "SFH8sDgUoPml",
    "outputId": "1fd3f254-b55c-4cb0-8b54-251b5272611e"
   },
   "outputs": [
    {
     "data": {
      "text/plain": [
       "[7, 8, 9]"
      ]
     },
     "execution_count": 34,
     "metadata": {},
     "output_type": "execute_result"
    }
   ],
   "source": [
    "# Pegar o primeiro item da matriz\n",
    "matrix[2]"
   ]
  },
  {
   "cell_type": "code",
   "execution_count": 33,
   "metadata": {
    "id": "toCSo5IOoPmm",
    "outputId": "367b7749-feea-4396-99d6-a995aff2a62c"
   },
   "outputs": [
    {
     "data": {
      "text/plain": [
       "9"
      ]
     },
     "execution_count": 33,
     "metadata": {},
     "output_type": "execute_result"
    }
   ],
   "source": [
    "# Pegar o primeiro item do primeiro item da matriz\n",
    "matrix[2][2]"
   ]
  },
  {
   "cell_type": "markdown",
   "metadata": {},
   "source": [
    "### List Comprehension em Python\n",
    "\n",
    "List comprehension é uma forma concisa e poderosa de criar listas em Python. É uma técnica que permite criar listas de forma elegante em apenas uma linha de código.\n",
    "\n",
    "#### Sintaxe Básica\n",
    "\n",
    "A sintaxe básica da list comprehension é:\n",
    "\n",
    "```python\n",
    "[expressão for item in iterável]\n",
    "```\n",
    "\n",
    "- **expressão**: A expressão que será avaliada e incluída na lista.\n",
    "- **item**: Variável que representa cada item do iterável.\n",
    "- **iterável**: Sequência de elementos como listas, strings, range, etc.\n",
    "\n",
    "#### Exemplo\n",
    "\n",
    "Suponha que queremos criar uma lista contendo os quadrados dos números de 0 a 9.\n",
    "\n",
    "```python\n",
    "quadrados = [x**2 for x in range(10)]\n",
    "print(quadrados)  # Saída: [0, 1, 4, 9, 16, 25, 36, 49, 64, 81]\n",
    "```\n",
    "\n",
    "Neste exemplo:\n",
    "- `range(10)` cria uma sequência de números de 0 a 9.\n",
    "- `x**2` eleva cada número ao quadrado.\n",
    "- O resultado é uma lista contendo os quadrados de 0 a 9."
   ]
  },
  {
   "cell_type": "code",
   "execution_count": 37,
   "metadata": {},
   "outputs": [
    {
     "data": {
      "text/plain": [
       "range(0, 10)"
      ]
     },
     "execution_count": 37,
     "metadata": {},
     "output_type": "execute_result"
    }
   ],
   "source": [
    "range(10)\n"
   ]
  },
  {
   "cell_type": "code",
   "execution_count": 41,
   "metadata": {},
   "outputs": [
    {
     "name": "stdout",
     "output_type": "stream",
     "text": [
      "[0, 1, 4, 9, 16, 25, 36, 49, 64, 81]\n"
     ]
    }
   ],
   "source": [
    "quadrados = [x**2 for x in range(10)]\n",
    "print(quadrados)  # Saída: [0, 1, 4, 9, 16, 25, 36, 49, 64, 81]"
   ]
  },
  {
   "cell_type": "code",
   "execution_count": 46,
   "metadata": {},
   "outputs": [],
   "source": [
    "my_list = my_list[:3]"
   ]
  },
  {
   "cell_type": "code",
   "execution_count": 47,
   "metadata": {},
   "outputs": [
    {
     "data": {
      "text/plain": [
       "['um', 'dois', 'três']"
      ]
     },
     "execution_count": 47,
     "metadata": {},
     "output_type": "execute_result"
    }
   ],
   "source": [
    "my_list"
   ]
  },
  {
   "cell_type": "code",
   "execution_count": 51,
   "metadata": {},
   "outputs": [
    {
     "data": {
      "text/plain": [
       "['UMabc', 'DOISabc', 'TRÊSabc']"
      ]
     },
     "execution_count": 51,
     "metadata": {},
     "output_type": "execute_result"
    }
   ],
   "source": [
    "[x.upper() + 'abc' for x in my_list]"
   ]
  },
  {
   "cell_type": "markdown",
   "metadata": {},
   "source": [
    "\n",
    "#### List Comprehension com Condição\n",
    "\n",
    "Podemos adicionar condições para filtrar os elementos incluídos na lista.\n",
    "\n",
    "```python\n",
    "pares = [x for x in range(10) if x % 2 == 0]\n",
    "print(pares)  # Saída: [0, 2, 4, 6, 8]\n",
    "```\n",
    "\n",
    "Neste exemplo, `x for x in range(10)` cria uma lista de números de 0 a 9, mas a condição `if x % 2 == 0` filtra apenas os números pares.\n",
    "\n"
   ]
  },
  {
   "cell_type": "code",
   "execution_count": 53,
   "metadata": {},
   "outputs": [
    {
     "name": "stdout",
     "output_type": "stream",
     "text": [
      "[1, 3, 5, 7, 9]\n"
     ]
    }
   ],
   "source": [
    "pares = [x for x in range(10) if x % 2 == 1]\n",
    "print(pares)  # Saída: [0, 2, 4, 6, 8]"
   ]
  },
  {
   "cell_type": "markdown",
   "metadata": {},
   "source": [
    "\n",
    "\n",
    "#### Benefícios\n",
    "\n",
    "- **Legibilidade**: List comprehension torna o código mais legível e conciso.\n",
    "- **Eficiência**: Em muitos casos, é mais eficiente do que criar listas usando loops convencionais.\n",
    "\n",
    "List comprehension é uma técnica poderosa em Python, permitindo escrever código mais limpo e eficiente! 🚀🐍"
   ]
  },
  {
   "cell_type": "markdown",
   "metadata": {
    "id": "I3IZSGuno2we"
   },
   "source": [
    "## Dicionários 📚\n",
    "\n",
    "Até agora, aprendemos sobre *sequências* em Python, mas agora vamos mudar de marcha e aprender sobre *mapeamentos* em Python. Se você está familiarizado com outras linguagens, pode pensar nesses Dicionários como tabelas de hash.\n",
    "\n",
    "Esta seção servirá como uma breve introdução aos dicionários e consistirá em:\n",
    "\n",
    "1. **Construção de um Dicionário** ✍️\n",
    "2. **Acessar objetos de um dicionário** 🔍\n",
    "3. **Aninhar Dicionários** 📥\n",
    "4. **Métodos Básicos de Dicionários** 🧰\n",
    "\n",
    "Então, o que são mapeamentos? Mapeamentos são uma coleção de objetos armazenados por uma *chave*, ao contrário de uma sequência que armazena objetos com base em sua posição relativa. Esta é uma distinção importante, uma vez que os mapeamentos não manterão a ordem, já que os objetos são definidos por uma chave.\n",
    "\n",
    "Um dicionário Python consiste em uma chave e, em seguida, um valor associado. Esse valor pode ser quase qualquer objeto Python.\n",
    "\n",
    "## Construindo um Dicionário\n",
    "Vamos ver como podemos construir dicionários para ter uma compreensão melhor de como eles funcionam! 📄🔑👍"
   ]
  },
  {
   "cell_type": "code",
   "execution_count": 54,
   "metadata": {
    "collapsed": true,
    "id": "jOPjeF1yo2we"
   },
   "outputs": [],
   "source": [
    "# Faça um dicionário com {} e : para assignar uma chave e um valor\n",
    "my_dict = {'key1':'value1','key2':'value2'}"
   ]
  },
  {
   "cell_type": "code",
   "execution_count": 55,
   "metadata": {
    "id": "FGDcCjxYo2wf",
    "outputId": "18eb9d53-e3b6-4132-ebad-971c0c508eb5"
   },
   "outputs": [
    {
     "data": {
      "text/plain": [
       "'value2'"
      ]
     },
     "execution_count": 55,
     "metadata": {},
     "output_type": "execute_result"
    }
   ],
   "source": [
    "# Obtenha os valores pela chave\n",
    "my_dict['key2']"
   ]
  },
  {
   "cell_type": "markdown",
   "metadata": {
    "id": "TiJ38aPio2wg"
   },
   "source": [
    "É importante observar que os dicionários são muito flexíveis em relação aos tipos de dados que podem conter. Por exemplo:"
   ]
  },
  {
   "cell_type": "code",
   "execution_count": 63,
   "metadata": {
    "collapsed": true,
    "id": "In5LPd2Lo2wg"
   },
   "outputs": [],
   "source": [
    "my_dict = {'key1':123,'key2':[12,23,33],'key3':['item0','item1','item2']}"
   ]
  },
  {
   "cell_type": "code",
   "execution_count": 57,
   "metadata": {
    "id": "vF-5ikZgo2wg",
    "outputId": "bb5b7397-a515-4020-a4e8-2d39b68bb060"
   },
   "outputs": [
    {
     "data": {
      "text/plain": [
       "['item0', 'item1', 'item2']"
      ]
     },
     "execution_count": 57,
     "metadata": {},
     "output_type": "execute_result"
    }
   ],
   "source": [
    "# Vamos chamar itens do dicionário\n",
    "my_dict['key3']"
   ]
  },
  {
   "cell_type": "code",
   "execution_count": 58,
   "metadata": {
    "id": "5C8ZxMb_o2wg",
    "outputId": "c8165bfd-325f-4982-842e-a9d2e208256e"
   },
   "outputs": [
    {
     "data": {
      "text/plain": [
       "'item0'"
      ]
     },
     "execution_count": 58,
     "metadata": {},
     "output_type": "execute_result"
    }
   ],
   "source": [
    "# Pode chamar um índice em uma lista\n",
    "my_dict['key3'][0]"
   ]
  },
  {
   "cell_type": "code",
   "execution_count": 59,
   "metadata": {
    "id": "ZnTdZZATo2wh",
    "outputId": "98c7c84e-4ad4-4395-8255-10b39ee958f7"
   },
   "outputs": [
    {
     "data": {
      "text/plain": [
       "'ITEM0'"
      ]
     },
     "execution_count": 59,
     "metadata": {},
     "output_type": "execute_result"
    }
   ],
   "source": [
    "# Pode também chamar métodos com este valor\n",
    "my_dict['key3'][0].upper()"
   ]
  },
  {
   "cell_type": "markdown",
   "metadata": {
    "id": "rdv7erj3o2wh"
   },
   "source": [
    "Também podemos afetar os valores de uma chave. Por exemplo:"
   ]
  },
  {
   "cell_type": "code",
   "execution_count": 64,
   "metadata": {
    "id": "YxC1ZGl5o2wh",
    "outputId": "e60b06c2-48bd-45cc-aa3e-1c188c7b8305"
   },
   "outputs": [
    {
     "data": {
      "text/plain": [
       "123"
      ]
     },
     "execution_count": 64,
     "metadata": {},
     "output_type": "execute_result"
    }
   ],
   "source": [
    "my_dict['key1']"
   ]
  },
  {
   "cell_type": "code",
   "execution_count": 67,
   "metadata": {
    "collapsed": true,
    "id": "D2Puy_h8o2wi"
   },
   "outputs": [],
   "source": [
    "# Subtrair 123 do valor\n",
    "my_dict['key1'] = my_dict['key1'] - 123"
   ]
  },
  {
   "cell_type": "code",
   "execution_count": 68,
   "metadata": {
    "id": "9piXlseno2wi",
    "outputId": "3c227d75-ccee-4253-a894-1de3040dfaab"
   },
   "outputs": [
    {
     "data": {
      "text/plain": [
       "-123"
      ]
     },
     "execution_count": 68,
     "metadata": {},
     "output_type": "execute_result"
    }
   ],
   "source": [
    "#Check\n",
    "my_dict['key1']"
   ]
  },
  {
   "cell_type": "markdown",
   "metadata": {
    "id": "4C69URW4o2wj"
   },
   "source": [
    "Uma observação rápida: Python possui um método embutido para fazer uma auto-subtração ou adição (ou multiplicação ou divisão). Também poderíamos ter usado `+=` ou `-=` para a declaração acima. Por exemplo:"
   ]
  },
  {
   "cell_type": "code",
   "execution_count": 77,
   "metadata": {
    "id": "CQc9StjXo2wj",
    "outputId": "e2e009a0-dae9-4355-9e49-7e6f41e1494c"
   },
   "outputs": [
    {
     "data": {
      "text/plain": [
       "738"
      ]
     },
     "execution_count": 77,
     "metadata": {},
     "output_type": "execute_result"
    }
   ],
   "source": [
    "# Defina o objeto igual a si mesmo subtraindo 123\n",
    "my_dict['key1'] += 123\n",
    "my_dict['key1']"
   ]
  },
  {
   "cell_type": "markdown",
   "metadata": {
    "id": "TU25C1KZo2wj"
   },
   "source": [
    "Também podemos criar chaves por atribuição. Por exemplo, se começássemos com um dicionário vazio, poderíamos adicionar continuamente a ele:"
   ]
  },
  {
   "cell_type": "code",
   "execution_count": 78,
   "metadata": {
    "collapsed": true,
    "id": "HwEROOXio2wj"
   },
   "outputs": [],
   "source": [
    "# Crie um novo dicionário\n",
    "d = {}"
   ]
  },
  {
   "cell_type": "code",
   "execution_count": 79,
   "metadata": {},
   "outputs": [
    {
     "data": {
      "text/plain": [
       "{}"
      ]
     },
     "execution_count": 79,
     "metadata": {},
     "output_type": "execute_result"
    }
   ],
   "source": [
    "d"
   ]
  },
  {
   "cell_type": "code",
   "execution_count": 80,
   "metadata": {
    "collapsed": true,
    "id": "RN5FPbiOo2wk"
   },
   "outputs": [],
   "source": [
    "# Crie uma nova chave através da atribuição\n",
    "d['animal'] = 'cachorro'"
   ]
  },
  {
   "cell_type": "code",
   "execution_count": 81,
   "metadata": {},
   "outputs": [
    {
     "data": {
      "text/plain": [
       "'cachorro'"
      ]
     },
     "execution_count": 81,
     "metadata": {},
     "output_type": "execute_result"
    }
   ],
   "source": [
    "d['animal']"
   ]
  },
  {
   "cell_type": "code",
   "execution_count": 82,
   "metadata": {
    "collapsed": true,
    "id": "bbCuOKW8o2wk"
   },
   "outputs": [],
   "source": [
    "# Podemos fazer isso com qualquer objeto\n",
    "d['answer'] = 42"
   ]
  },
  {
   "cell_type": "code",
   "execution_count": 83,
   "metadata": {
    "id": "oAX83pczo2wk",
    "outputId": "b9a46569-32b2-4c71-ccbf-6dbb268473cf"
   },
   "outputs": [
    {
     "data": {
      "text/plain": [
       "{'animal': 'cachorro', 'answer': 42}"
      ]
     },
     "execution_count": 83,
     "metadata": {},
     "output_type": "execute_result"
    }
   ],
   "source": [
    "#Show\n",
    "d"
   ]
  },
  {
   "cell_type": "markdown",
   "metadata": {
    "id": "iFKqGZWvo2wl"
   },
   "source": [
    "## Alguns Métodos de Dicionário\n",
    "\n",
    "Existem alguns métodos que podemos chamar em um dicionário. Vamos ter uma breve introdução a alguns deles: 📚🔍🧰"
   ]
  },
  {
   "cell_type": "code",
   "execution_count": 84,
   "metadata": {
    "collapsed": true,
    "id": "PJ4tQvSMo2wl"
   },
   "outputs": [],
   "source": [
    "# Crie um dicionário típico\n",
    "d = {'key1':1,'key2':2,'key3':3}"
   ]
  },
  {
   "cell_type": "code",
   "execution_count": 88,
   "metadata": {},
   "outputs": [
    {
     "data": {
      "text/plain": [
       "{'key1': 1, 'key2': 2, 'key3': 3}"
      ]
     },
     "execution_count": 88,
     "metadata": {},
     "output_type": "execute_result"
    }
   ],
   "source": [
    "d"
   ]
  },
  {
   "cell_type": "code",
   "execution_count": 85,
   "metadata": {
    "id": "o7nBHffqo2wl",
    "outputId": "6ffecdb4-2d9b-4c80-ee49-fbf38b522052"
   },
   "outputs": [
    {
     "data": {
      "text/plain": [
       "dict_keys(['key1', 'key2', 'key3'])"
      ]
     },
     "execution_count": 85,
     "metadata": {},
     "output_type": "execute_result"
    }
   ],
   "source": [
    "# Método para retornar uma lista de todas as chaves\n",
    "d.keys()"
   ]
  },
  {
   "cell_type": "code",
   "execution_count": 86,
   "metadata": {
    "id": "0o-HYvUFo2wl",
    "outputId": "b6845ca2-8a2e-4344-e06e-7c395b2486b4"
   },
   "outputs": [
    {
     "data": {
      "text/plain": [
       "dict_values([1, 2, 3])"
      ]
     },
     "execution_count": 86,
     "metadata": {},
     "output_type": "execute_result"
    }
   ],
   "source": [
    "# Método para pegar todos os valores\n",
    "d.values()"
   ]
  },
  {
   "cell_type": "code",
   "execution_count": 87,
   "metadata": {
    "id": "1VsJ7uCOo2wm",
    "outputId": "8406e506-509b-43cc-d2c3-c87868ded4d6"
   },
   "outputs": [
    {
     "data": {
      "text/plain": [
       "dict_items([('key1', 1), ('key2', 2), ('key3', 3)])"
      ]
     },
     "execution_count": 87,
     "metadata": {},
     "output_type": "execute_result"
    }
   ],
   "source": [
    "# Método para retornar tuplas de todos os itens (aprenderemos sobre tuplas em breve)\n",
    "d.items()"
   ]
  },
  {
   "cell_type": "code",
   "execution_count": 91,
   "metadata": {},
   "outputs": [],
   "source": [
    "list = ['(' + x.upper() + ')' for x in d.keys()] "
   ]
  },
  {
   "cell_type": "code",
   "execution_count": 97,
   "metadata": {},
   "outputs": [
    {
     "data": {
      "text/plain": [
       "['KEY1', 'KEY2', 'KEY3']"
      ]
     },
     "execution_count": 97,
     "metadata": {},
     "output_type": "execute_result"
    }
   ],
   "source": [
    "list"
   ]
  },
  {
   "cell_type": "code",
   "execution_count": 96,
   "metadata": {},
   "outputs": [],
   "source": [
    "list = [x.replace(\"(\", \"\").replace(\")\", \"\") for x in list]"
   ]
  },
  {
   "cell_type": "markdown",
   "metadata": {
    "id": "jURdIq_Ho2wm"
   },
   "source": [
    "Espero que agora você tenha uma boa compreensão básica de como construir dicionários. Há muito mais a ser explorado aqui, mas voltaremos aos dicionários em um momento posterior. Após esta seção, tudo o que você precisa saber é como criar um dicionário e como recuperar valores dele. 👍📚🔍"
   ]
  }
 ],
 "metadata": {
  "colab": {
   "collapsed_sections": [
    "GZxwsNoXYZzx",
    "3XZTkZupYPus",
    "3mRPMsQsmriS",
    "orl8XerJpCMf",
    "11Dqbqt_pCMi"
   ],
   "provenance": []
  },
  "kernelspec": {
   "display_name": "Python 3",
   "name": "python3"
  },
  "language_info": {
   "codemirror_mode": {
    "name": "ipython",
    "version": 3
   },
   "file_extension": ".py",
   "mimetype": "text/x-python",
   "name": "python",
   "nbconvert_exporter": "python",
   "pygments_lexer": "ipython3",
   "version": "3.12.0"
  }
 },
 "nbformat": 4,
 "nbformat_minor": 0
}
